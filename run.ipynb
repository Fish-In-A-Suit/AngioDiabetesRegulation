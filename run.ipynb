{
 "cells": [
  {
   "cell_type": "code",
   "execution_count": 1,
   "metadata": {},
   "outputs": [
    {
     "name": "stderr",
     "output_type": "stream",
     "text": [
      "/Users/ladismrkolj/miniconda3/envs/go_prediciton/lib/python3.10/site-packages/tqdm/auto.py:21: TqdmWarning: IProgress not found. Please update jupyter and ipywidgets. See https://ipywidgets.readthedocs.io/en/stable/user_install.html\n",
      "  from .autonotebook import tqdm as notebook_tqdm\n"
     ]
    }
   ],
   "source": [
    "from goreverselookuplib import AnnotationProcessor as AP"
   ]
  },
  {
   "cell_type": "code",
   "execution_count": 2,
   "metadata": {},
   "outputs": [],
   "source": [
    "import logging\n",
    "logger = logging.getLogger(__name__)\n",
    "logging.basicConfig(\n",
    "    level=logging.DEBUG, \n",
    "    format='%(asctime)s %(levelname)s %(message)s', \n",
    "    datefmt='%Y-%m-%d %H:%M:%S'\n",
    ")"
   ]
  },
  {
   "cell_type": "code",
   "execution_count": 3,
   "metadata": {},
   "outputs": [
    {
     "name": "stderr",
     "output_type": "stream",
     "text": [
      "2023-04-17 23:40:28 DEBUG Starting new HTTPS connection (1): rest.ensembl.org:443\n",
      "2023-04-17 23:40:29 DEBUG https://rest.ensembl.org:443 \"GET /homology/symbol/mouse/MGI:97564?target_species=human;type=orthologues;sequence=none HTTP/1.1\" 200 528\n",
      "2023-04-17 23:40:29 INFO Received ortholog for id MGI:97564 -> ENSG00000169299.\n",
      "2023-04-17 23:40:29 INFO ENSG00000169299\n"
     ]
    }
   ],
   "source": [
    "unknown_gene = \"MGI:97564\"\n",
    "\n",
    "ensembl = AP.EnsemblAPI()\n",
    "\n",
    "ortholog = ensembl.get_human_ortholog(unknown_gene)\n",
    "\n",
    "logger.info(ortholog)"
   ]
  },
  {
   "cell_type": "code",
   "execution_count": 4,
   "metadata": {},
   "outputs": [
    {
     "name": "stderr",
     "output_type": "stream",
     "text": [
      "2023-04-17 23:40:30 DEBUG Starting new HTTPS connection (1): rest.ensembl.org:443\n",
      "2023-04-17 23:40:31 DEBUG https://rest.ensembl.org:443 \"GET /lookup/symbol/mouse/MGI:97564?mane=1;expand=1 HTTP/1.1\" 400 54\n",
      "2023-04-17 23:40:31 DEBUG Starting new HTTP connection (1): rest.ensembl.org:80\n",
      "2023-04-17 23:40:31 DEBUG http://rest.ensembl.org:80 \"GET /xrefs/symbol/mouse/MGI:97564?object_type=gene HTTP/1.1\" 200 43\n",
      "2023-04-17 23:40:31 DEBUG Starting new HTTPS connection (1): rest.ensembl.org:443\n",
      "2023-04-17 23:40:31 DEBUG https://rest.ensembl.org:443 \"GET /lookup/id/ENSMUSG00000029171?content-type=application/json;mane=1;expand=1 HTTP/1.1\" 200 7582\n",
      "2023-04-17 23:40:31 INFO Received sequence for id MGI:97564.\n",
      "2023-04-17 23:40:31 INFO ENSMUSG00000029171, Pgm2, phosphoglucomutase 2, ENSMUST00000087324, None\n"
     ]
    }
   ],
   "source": [
    "info = ensembl.get_info(unknown_gene)\n",
    "\n",
    "logger.info(f\"{info['ENSG_id']}, {info['name']}, {info['description']}, {info['ENST_id']}, {info['refseq_id']}\")"
   ]
  }
 ],
 "metadata": {
  "kernelspec": {
   "display_name": "Python 3",
   "language": "python",
   "name": "python3"
  },
  "language_info": {
   "codemirror_mode": {
    "name": "ipython",
    "version": 3
   },
   "file_extension": ".py",
   "mimetype": "text/x-python",
   "name": "python",
   "nbconvert_exporter": "python",
   "pygments_lexer": "ipython3",
   "version": "3.10.10"
  },
  "orig_nbformat": 4
 },
 "nbformat": 4,
 "nbformat_minor": 2
}
