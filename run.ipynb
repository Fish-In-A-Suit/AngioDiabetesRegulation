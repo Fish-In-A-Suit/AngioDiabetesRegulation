{
 "cells": [
  {
   "attachments": {},
   "cell_type": "markdown",
   "metadata": {},
   "source": [
    "Start logging"
   ]
  },
  {
   "cell_type": "code",
   "execution_count": 1,
   "metadata": {},
   "outputs": [],
   "source": [
    "import logging\n",
    "logger = logging.getLogger(__name__)\n",
    "import logging.config\n",
    "import logging_config as cfg\n",
    "logging.config.dictConfig(cfg.log_dict)"
   ]
  },
  {
   "attachments": {},
   "cell_type": "markdown",
   "metadata": {},
   "source": [
    "Make sure that the correct target folder which includes \"input.txt\" is in constants.py!\n",
    "Now lets read the input.txt"
   ]
  },
  {
   "cell_type": "code",
   "execution_count": 2,
   "metadata": {},
   "outputs": [
    {
     "name": "stdout",
     "output_type": "stream",
     "text": [
      "{'homosapiens_only': 'True', 'processes': [{'name': 'diabetes', 'direction': '+'}, {'name': 'angio', 'direction': '+'}], 'GO_terms': [{'GO_id': 'GO:1903589', 'process': 'angio', 'direction': '+', 'weight': '1'}, {'GO_id': 'GO:1903672', 'process': 'angio', 'direction': '+', 'weight': '1'}, {'GO_id': 'GO:0045766', 'process': 'angio', 'direction': '+', 'weight': '1'}, {'GO_id': 'GO:0106090', 'process': 'angio', 'direction': '+', 'weight': '1'}, {'GO_id': 'GO:0090050', 'process': 'angio', 'direction': '+', 'weight': '1'}, {'GO_id': 'GO:0001935', 'process': 'angio', 'direction': '+', 'weight': '1'}, {'GO_id': 'GO:1903588', 'process': 'angio', 'direction': '-', 'weight': '1'}, {'GO_id': 'GO:1903671', 'process': 'angio', 'direction': '-', 'weight': '1'}, {'GO_id': 'GO:0016525', 'process': 'angio', 'direction': '-', 'weight': '1'}, {'GO_id': 'GO:0106089', 'process': 'angio', 'direction': '-', 'weight': '1'}, {'GO_id': 'GO:0090051', 'process': 'angio', 'direction': '-', 'weight': '1'}, {'GO_id': 'GO:0043532', 'process': 'angio', 'direction': '-', 'weight': '1'}, {'GO_id': 'GO:0032311', 'process': 'angio', 'direction': '-', 'weight': '1'}, {'GO_id': 'GO:0001937', 'process': 'angio', 'direction': '-', 'weight': '1'}, {'GO_id': 'GO:1905563', 'process': 'angio', 'direction': '-', 'weight': '1'}, {'GO_id': 'GO:1900077', 'process': 'diabetes', 'direction': '+', 'weight': '1'}, {'GO_id': 'GO:0046627', 'process': 'diabetes', 'direction': '+', 'weight': '1'}, {'GO_id': 'GO:1900078', 'process': 'diabetes', 'direction': '-', 'weight': '1'}, {'GO_id': 'GO:0046628', 'process': 'diabetes', 'direction': '-', 'weight': '1'}, {'GO_id': 'GO:0001525', 'process': 'angio', 'direction': '0', 'weight': '1'}, {'GO_id': 'GO:1903587', 'process': 'angio', 'direction': '0', 'weight': '1'}, {'GO_id': 'GO:1903670', 'process': 'angio', 'direction': '0', 'weight': '1'}, {'GO_id': 'GO:0045765', 'process': 'angio', 'direction': '0', 'weight': '1'}, {'GO_id': 'GO:0060055', 'process': 'angio', 'direction': '0', 'weight': '1'}, {'GO_id': 'GO:0002040', 'process': 'angio', 'direction': '0', 'weight': '1'}, {'GO_id': 'GO:0002041', 'process': 'angio', 'direction': '0', 'weight': '1'}, {'GO_id': 'GO:0002042', 'process': 'angio', 'direction': '0', 'weight': '1'}, {'GO_id': 'GO:0002043', 'process': 'angio', 'direction': '0', 'weight': '1'}, {'GO_id': 'GO:0002044', 'process': 'angio', 'direction': '0', 'weight': '1'}, {'GO_id': 'GO:0106088', 'process': 'angio', 'direction': '0', 'weight': '1'}, {'GO_id': 'GO:0002045', 'process': 'angio', 'direction': '0', 'weight': '1'}, {'GO_id': 'GO:0120078', 'process': 'angio', 'direction': '0', 'weight': '1'}, {'GO_id': 'GO:0090049', 'process': 'angio', 'direction': '0', 'weight': '1'}, {'GO_id': 'GO:0071116', 'process': 'angio', 'direction': '0', 'weight': '1'}, {'GO_id': 'GO:0120077', 'process': 'angio', 'direction': '0', 'weight': '1'}, {'GO_id': 'GO:0043534', 'process': 'angio', 'direction': '0', 'weight': '1'}, {'GO_id': 'GO:0003158', 'process': 'angio', 'direction': '0', 'weight': '1'}, {'GO_id': 'GO:0001938', 'process': 'angio', 'direction': '0', 'weight': '1'}, {'GO_id': 'GO:1905564', 'process': 'angio', 'direction': '0', 'weight': '1'}, {'GO_id': 'GO:0001936', 'process': 'angio', 'direction': '0', 'weight': '1'}, {'GO_id': 'GO:1905562', 'process': 'angio', 'direction': '0', 'weight': '1'}, {'GO_id': 'GO:0101023', 'process': 'angio', 'direction': '0', 'weight': '1'}, {'GO_id': 'GO:0046950', 'process': 'diabetes', 'direction': '0', 'weight': '1'}, {'GO_id': 'GO:0032869', 'process': 'diabetes', 'direction': '0', 'weight': '1'}, {'GO_id': 'GO:0044381', 'process': 'diabetes', 'direction': '0', 'weight': '1'}, {'GO_id': 'GO:0006006', 'process': 'diabetes', 'direction': '0', 'weight': '1'}, {'GO_id': 'GO:0043559', 'process': 'diabetes', 'direction': '0', 'weight': '1'}, {'GO_id': 'GO:1901143', 'process': 'diabetes', 'direction': '0', 'weight': '1'}, {'GO_id': 'GO:1901142', 'process': 'diabetes', 'direction': '0', 'weight': '1'}, {'GO_id': 'GO:0005899', 'process': 'diabetes', 'direction': '0', 'weight': '1'}, {'GO_id': 'GO:0038016', 'process': 'diabetes', 'direction': '0', 'weight': '1'}, {'GO_id': 'GO:0038020', 'process': 'diabetes', 'direction': '0', 'weight': '1'}, {'GO_id': 'GO:0038028', 'process': 'diabetes', 'direction': '0', 'weight': '1'}, {'GO_id': 'GO:0008286', 'process': 'diabetes', 'direction': '0', 'weight': '1'}, {'GO_id': 'GO:0043560', 'process': 'diabetes', 'direction': '0', 'weight': '1'}, {'GO_id': 'GO:0005009', 'process': 'diabetes', 'direction': '0', 'weight': '1'}, {'GO_id': 'GO:0005520', 'process': 'diabetes', 'direction': '0', 'weight': '1'}, {'GO_id': 'GO:0032593', 'process': 'diabetes', 'direction': '0', 'weight': '1'}, {'GO_id': 'GO:0046626', 'process': 'diabetes', 'direction': '0', 'weight': '1'}, {'GO_id': 'GO:0014859', 'process': 'diabetes', 'direction': '0', 'weight': '1'}, {'GO_id': 'GO:1904205', 'process': 'diabetes', 'direction': '0', 'weight': '1'}, {'GO_id': 'GO:0048632', 'process': 'diabetes', 'direction': '0', 'weight': '1'}, {'GO_id': 'GO:0014858', 'process': 'diabetes', 'direction': '0', 'weight': '1'}, {'GO_id': 'GO:1904206', 'process': 'diabetes', 'direction': '0', 'weight': '1'}, {'GO_id': 'GO:0048633', 'process': 'diabetes', 'direction': '0', 'weight': '1'}, {'GO_id': 'GO:0014733', 'process': 'diabetes', 'direction': '0', 'weight': '1'}, {'GO_id': 'GO:0014857', 'process': 'diabetes', 'direction': '0', 'weight': '1'}, {'GO_id': 'GO:1904204', 'process': 'diabetes', 'direction': '0', 'weight': '1'}, {'GO_id': 'GO:0048631', 'process': 'diabetes', 'direction': '0', 'weight': '1'}, {'GO_id': 'GO:0043501', 'process': 'diabetes', 'direction': '0', 'weight': '1'}, {'GO_id': 'GO:0014732', 'process': 'diabetes', 'direction': '0', 'weight': '1'}, {'GO_id': 'GO:0014856', 'process': 'diabetes', 'direction': '0', 'weight': '1'}, {'GO_id': 'GO:0098528', 'process': 'diabetes', 'direction': '0', 'weight': '1'}, {'GO_id': 'GO:0014734', 'process': 'diabetes', 'direction': '0', 'weight': '1'}, {'GO_id': 'GO:0014841', 'process': 'diabetes', 'direction': '0', 'weight': '1'}, {'GO_id': 'GO:0007519', 'process': 'diabetes', 'direction': '0', 'weight': '1'}, {'GO_id': 'GO:0048630', 'process': 'diabetes', 'direction': '0', 'weight': '1'}, {'GO_id': 'GO:0043403', 'process': 'diabetes', 'direction': '0', 'weight': '1'}]}\n"
     ]
    }
   ],
   "source": [
    "import util\n",
    "\n",
    "inputs = util.read_input_file()\n",
    "print(inputs)"
   ]
  },
  {
   "attachments": {},
   "cell_type": "markdown",
   "metadata": {},
   "source": [
    "First step is accquiring the list of genes/products associated with each go term and then find the UniProt ID for each product.\n",
    "This is saved in the file: terms_direct_products.json"
   ]
  },
  {
   "cell_type": "code",
   "execution_count": 3,
   "metadata": {},
   "outputs": [
    {
     "name": "stderr",
     "output_type": "stream",
     "text": [
      "2023-03-25 21:13:47,799 [DEBUG] load_list_from_file: diabetes_angio_1\\terms_empty.txt does not exist!\n",
      "2023-03-25 21:13:47,801 [INFO] main: Loaded 0 trusted genes. trusted_genes = []\n",
      "2023-03-25 21:13:47,802 [INFO] main: Loaded 0 empty terms. terms_empty = []\n"
     ]
    },
    {
     "ename": "FileNotFoundError",
     "evalue": "[Errno 2] No such file or directory: 'src_data_files/uniprotkb_human_idmapping.dat'",
     "output_type": "error",
     "traceback": [
      "\u001b[1;31m---------------------------------------------------------------------------\u001b[0m",
      "\u001b[1;31mFileNotFoundError\u001b[0m                         Traceback (most recent call last)",
      "Cell \u001b[1;32mIn[3], line 3\u001b[0m\n\u001b[0;32m      1\u001b[0m terms \u001b[39m=\u001b[39m util\u001b[39m.\u001b[39mget_array_terms_from_input_list(inputs[\u001b[39m\"\u001b[39m\u001b[39mGO_terms\u001b[39m\u001b[39m\"\u001b[39m])\n\u001b[0;32m      2\u001b[0m \u001b[39mimport\u001b[39;00m \u001b[39mdev_go_download\u001b[39;00m\n\u001b[1;32m----> 3\u001b[0m dev_go_download\u001b[39m.\u001b[39;49mmain(terms)\n",
      "File \u001b[1;32md:\\vladi\\Documents\\GitHub\\AngioDiabetesRegulation\\dev_go_download.py:584\u001b[0m, in \u001b[0;36mmain\u001b[1;34m(terms_list)\u001b[0m\n\u001b[0;32m    582\u001b[0m logging\u001b[39m.\u001b[39minfo(\u001b[39mf\u001b[39m\u001b[39m\"\u001b[39m\u001b[39mLoaded \u001b[39m\u001b[39m{\u001b[39;00m\u001b[39mlen\u001b[39m(constants\u001b[39m.\u001b[39mTRUSTED_GENES)\u001b[39m}\u001b[39;00m\u001b[39m trusted genes. trusted_genes = \u001b[39m\u001b[39m{\u001b[39;00mconstants\u001b[39m.\u001b[39mTRUSTED_GENES\u001b[39m}\u001b[39;00m\u001b[39m\"\u001b[39m)\n\u001b[0;32m    583\u001b[0m logging\u001b[39m.\u001b[39minfo(\u001b[39mf\u001b[39m\u001b[39m\"\u001b[39m\u001b[39mLoaded \u001b[39m\u001b[39m{\u001b[39;00m\u001b[39mlen\u001b[39m(constants\u001b[39m.\u001b[39mTERMS_EMPTY)\u001b[39m}\u001b[39;00m\u001b[39m empty terms. terms_empty = \u001b[39m\u001b[39m{\u001b[39;00mconstants\u001b[39m.\u001b[39mTERMS_EMPTY\u001b[39m}\u001b[39;00m\u001b[39m\"\u001b[39m)\n\u001b[1;32m--> 584\u001b[0m util\u001b[39m.\u001b[39;49mload_human_orthologs()\n\u001b[0;32m    586\u001b[0m \u001b[39m# old main functions\u001b[39;00m\n\u001b[0;32m    587\u001b[0m \u001b[39m# terms_all = util.get_array_terms(\"ALL\")\u001b[39;00m\n\u001b[0;32m    588\u001b[0m \u001b[39m# terms = [\"GO:1904204\"]\u001b[39;00m\n\u001b[0;32m    589\u001b[0m \u001b[39m# find_genes_related_to_GO_terms(terms, ask_for_overrides = False, destination_folder=\"term_genes/homosapiens_only=false,v1\")\u001b[39;00m\n\u001b[0;32m    590\u001b[0m \n\u001b[0;32m    591\u001b[0m \u001b[39m# new main functions\u001b[39;00m\n\u001b[0;32m    592\u001b[0m \u001b[39mif\u001b[39;00m terms_list \u001b[39mis\u001b[39;00m \u001b[39mNone\u001b[39;00m:\n",
      "File \u001b[1;32md:\\vladi\\Documents\\GitHub\\AngioDiabetesRegulation\\util.py:902\u001b[0m, in \u001b[0;36mload_human_orthologs\u001b[1;34m()\u001b[0m\n\u001b[0;32m    898\u001b[0m \u001b[39m\u001b[39m\u001b[39m\"\"\"\u001b[39;00m\n\u001b[0;32m    899\u001b[0m \u001b[39mThis function should be called at runtime once to load the ortholog mapping txt files into proper variables.\u001b[39;00m\n\u001b[0;32m    900\u001b[0m \u001b[39m\"\"\"\u001b[39;00m\n\u001b[0;32m    901\u001b[0m \u001b[39mglobal\u001b[39;00m _uniprot_genes_readlines\n\u001b[1;32m--> 902\u001b[0m _uniprot_genes_readlines \u001b[39m=\u001b[39m readlines(\u001b[39m\"\u001b[39;49m\u001b[39msrc_data_files/uniprotkb_human_idmapping.dat\u001b[39;49m\u001b[39m\"\u001b[39;49m)\n\u001b[0;32m    903\u001b[0m \u001b[39mglobal\u001b[39;00m _zfin_ortholog_readlines\n\u001b[0;32m    904\u001b[0m _zfin_ortholog_readlines \u001b[39m=\u001b[39m readlines(\u001b[39m\"\u001b[39m\u001b[39msrc_data_files/zfin_human_ortholog_mapping.txt\u001b[39m\u001b[39m\"\u001b[39m)\n",
      "File \u001b[1;32md:\\vladi\\Documents\\GitHub\\AngioDiabetesRegulation\\util.py:174\u001b[0m, in \u001b[0;36mreadlines\u001b[1;34m(filepath)\u001b[0m\n\u001b[0;32m    170\u001b[0m \u001b[39mdef\u001b[39;00m \u001b[39mreadlines\u001b[39m(filepath):\n\u001b[0;32m    171\u001b[0m \u001b[39m    \u001b[39m\u001b[39m\"\"\"\u001b[39;00m\n\u001b[0;32m    172\u001b[0m \u001b[39m    Reads the lines of the specified filepath\u001b[39;00m\n\u001b[0;32m    173\u001b[0m \u001b[39m    \"\"\"\u001b[39;00m\n\u001b[1;32m--> 174\u001b[0m     \u001b[39mwith\u001b[39;00m \u001b[39mopen\u001b[39;49m(filepath, \u001b[39m\"\u001b[39;49m\u001b[39mr\u001b[39;49m\u001b[39m\"\u001b[39;49m) \u001b[39mas\u001b[39;00m read_content:\n\u001b[0;32m    175\u001b[0m         \u001b[39mreturn\u001b[39;00m read_content\u001b[39m.\u001b[39mreadlines()\n",
      "\u001b[1;31mFileNotFoundError\u001b[0m: [Errno 2] No such file or directory: 'src_data_files/uniprotkb_human_idmapping.dat'"
     ]
    }
   ],
   "source": [
    "terms = util.get_array_terms_from_input_list(inputs[\"GO_terms\"])\n",
    "import dev_go_download\n",
    "dev_go_download.main(terms)"
   ]
  }
 ],
 "metadata": {
  "kernelspec": {
   "display_name": "Python 3",
   "language": "python",
   "name": "python3"
  },
  "language_info": {
   "codemirror_mode": {
    "name": "ipython",
    "version": 3
   },
   "file_extension": ".py",
   "mimetype": "text/x-python",
   "name": "python",
   "nbconvert_exporter": "python",
   "pygments_lexer": "ipython3",
   "version": "3.10.2"
  },
  "orig_nbformat": 4
 },
 "nbformat": 4,
 "nbformat_minor": 2
}
